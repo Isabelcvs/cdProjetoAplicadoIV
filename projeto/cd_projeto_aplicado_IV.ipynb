{
  "nbformat": 4,
  "nbformat_minor": 0,
  "metadata": {
    "colab": {
      "provenance": [],
      "authorship_tag": "ABX9TyOr+l3JyFhtk4pApBZfDpgN",
      "include_colab_link": true
    },
    "kernelspec": {
      "name": "python3",
      "display_name": "Python 3"
    },
    "language_info": {
      "name": "python"
    }
  },
  "cells": [
    {
      "cell_type": "markdown",
      "metadata": {
        "id": "view-in-github",
        "colab_type": "text"
      },
      "source": [
        "<a href=\"https://colab.research.google.com/github/scalabrinig/cdProjetoAplicadoIV/blob/master/projeto/cd_projeto_aplicado_IV.ipynb\" target=\"_parent\"><img src=\"https://colab.research.google.com/assets/colab-badge.svg\" alt=\"Open In Colab\"/></a>"
      ]
    },
    {
      "cell_type": "markdown",
      "source": [
        "  <img src=\"https://raw.githubusercontent.com/scalabrinig/cdProjetoAplicadoIV/d093146488f56dfcf0ef286bcee8efe0e71b9c76/figuras/mackenzie_logo.jpg\" width=\"25%\" align=\"right\"/>\n",
        "\n",
        "# **PROJETO APLICADO IV - Ciência de Dados EaD - 2024/02**\n",
        "\n",
        "---"
      ],
      "metadata": {
        "id": "Ux5TSX--qOft"
      }
    },
    {
      "cell_type": "markdown",
      "source": [
        "# **Objetivo**:\n",
        "\n",
        "Desenvolver um produto analítico envolvendo séries temporais. O projeto deve incluir as fases de concepção, implementação e apresentação do projeto para um cliente. Escolher um tema em que os dados são organizados em formato de série temporal."
      ],
      "metadata": {
        "id": "-UJ6Rj9jrJFM"
      }
    },
    {
      "cell_type": "markdown",
      "source": [
        "# **Recomendações**\n",
        "\n",
        "Algumas recomendações importantes que podem ajudar a nortear a escolha do projeto.\n",
        "\n",
        "1. **Dados atuais e problema relevante**. O projeto deve buscar resolver uma problema relevante. Ele deve resolver um problema real de uma empresa ou da sociedade e, portanto, você deve empregar dados atuais.\n",
        "\n",
        "2. **Empregue dados próprios**, isto é, evite empregar fontes de dados públicos de fontes secundárias e dados pré-processados como as bases do `Kaggle`. Procure empregar dados de empresas ou, se forem empregados dados públicos, empregue dados de fontes originais como do governo (ibge, ipea, inpe, inep, info.dengue.mat.br etc.). Podem ser também obtidos dados a partir de API's de serviços. Dados de Séries Financeiras podem ser empregados, mas em especial, alertamos não ser recomendado o emprego de dados de bolsa, em especial de *day trade*, pela dificuldade de se obter boas análises e bons resultados.\n",
        "\n",
        "3. **Explore um ou mais algoritmos de Aprendizado de Máquina**. Embora a Ciência de Dados inclua análise exploratória, isso pode ser bastante limitado para tratar Séries Temporais. O uso de algoritmos de Aprendizado de Máquina e de Modelos Estatísticos são, portanto, recomendados para implementação do projeto podendo ser empregados para previsões, detecção de anomalias, geração automática de decisões (preços, recomendações etc.).\n",
        "\n",
        "4. **Referências**. Busque referências bibliográficas que embasem o seu trabalho. Um estudo semelhante, um projeto já realizado, podem constituir um ponto de partida e são parte obrigatória de um bom projeto.\n",
        "\n",
        "5. **Implementação 100% excutável**. O projeto deve ser executável e reproduzível, sendo assim fornecido todo o necessário para sua execução (dados, códigos etc.). Evite disponibilizar soluções proprietárias e, quando empregadas, indique soluções para acesso total ou parcial.\n",
        "\n",
        "6. **Texto e Apresentação**. A comunicação de um projeto é também essencial, não descuidem, portanto do texto e da apresentação.\n",
        "\n",
        "7. **ODS e Caráter Extensionista**. Esta componente tem caráter extensionista e, por isso, ela deve obrigatoriamente buscar fazer uma contribuição à sociedade e estar vinculada a uma das [ODS](https://www.undp.org/sustainable-development-goals) Objetivos de Desenvolvimento Sustentável (Sustainable Development Goals). A contribuição minimamente esperada, é o compartilhamento público do projeto, para que indivíduos e a comunidade interessada no projeto tenha acesso a suas contribuições."
      ],
      "metadata": {
        "id": "b5YjFKI1rTcy"
      }
    },
    {
      "cell_type": "markdown",
      "source": [
        "# **Entregas**\n"
      ],
      "metadata": {
        "id": "AvUZnJYUsQlV"
      }
    },
    {
      "cell_type": "markdown",
      "source": [
        "## **[1] Definição do projeto e equipe** **(06/07)**\n",
        "\n",
        "Checkpoint em: **22/08**\n",
        "\n",
        "### Entregáveis:\n",
        "\n",
        "* **Definição da Equipe**\n",
        "  \n",
        "  * 2 ou 3 alunos\n",
        "\n",
        "* **Proposta do Projeto**\n",
        "\n",
        "  * **Título do Projeto**\n",
        "\n",
        "  * **Introdução**: Apresentar o contexto temático no qual o projeto se desenvolve, incluindo a área de conhecimento envolvida, além da descrição e do detalhamento do problema selecionado.\n",
        "\n",
        "  * **Motivações e justificativa**: Conter argumentos que demonstrem a relevância do tema, os interesses e benefícios envolvidos e o potencial de aplicabilidade da solução.\n",
        "  \n",
        "  * **Objetivo**: Descrevendo as pretensões e metas a serem alcançadas pelo projeto em relação ao problema escolhido pelo grupo e descrito na introdução.\n",
        "\n",
        "  * **Descrição da base de dados**: Apresentando a descrição do conjunto de dados que será usado no trabalho e apontando quais informações estão disponíveis, sua estrutura e organização, sua forma e seu período de coleta, além da indicação da fonte de dados.\n",
        "\n",
        "  * **Referências**: Expondo a relação dos recursos utilizados na elaboração do documento, desde que tenham sido devidamente citados. Para isso, devem ser utilizadas as normas da ABNT.\n",
        "\n",
        "\n",
        "### Critérios de Avaliação:\n",
        "\n",
        "* (25%) Relevância do tema. *Atualidade, importância*.\n",
        "\n",
        "* (25%) Fonte dos dados. *Complexidade, volume, originalidade, tratamento de dados real-time (streaming)*.\n",
        "\n",
        "* (25%) Solução proposta. *Adequação e viabilidade da solução proposta*.\n",
        "\n",
        "* (15%) Referências. *Qualidade e aderência das referências*.\n",
        "\n",
        "* (10%) Apresentação geral da atividade. *Texto, qualidade, clareza etc.*\n",
        "  "
      ],
      "metadata": {
        "id": "GyZdveeCsUN7"
      }
    },
    {
      "cell_type": "markdown",
      "source": [
        "## **[2] Referencial Teórico e Cronograma** **(30/07)**\n",
        "\n",
        "Checkpoint em: **19/07**\n",
        "\n",
        "### Entregáveis:\n",
        "\n",
        "* **Referencial Teórico**. *(*máximo 1 página*) Discutir os trabalhos correlacionados. Busque apresentar alternativas de solução que foram empregadas no mesmo problema ou problemas semelhantes, e suas vantagens e limitações. Definir resumidamente os principais conceitos envolvidos na sua solução. Indicar referências ao longo do texto.*\n",
        "\n",
        "* **Pipeline de Solução**.*Apresentar e discutir o pipeline da solução proposta.*\n",
        "\n",
        "* **Cronograma**. *Apresentar um cronograma detalhado das entregas do seu projeto que contemple as datas de entrega das atividades.*\n",
        "\n",
        "### Critérios de Avaliação:\n",
        "\n",
        "* (30%) Referencial Teórico. *Texto claro, atendendo o conteúdo e tamanho propostos. Qualidade e atualidade das referências. Apresentação correta dos conceitos envolvidos*.\n",
        "\n",
        "* (30%) Pipeline de Solução. *Viabilidade e clareza da solução inicial proposta.*\n",
        "\n",
        "* (20%) Cronograma. *Viabilidade, detalhamento e clareza das tarefas e prazos propostos.*"
      ],
      "metadata": {
        "id": "goTLKzXzwFKN"
      }
    }
  ]
}