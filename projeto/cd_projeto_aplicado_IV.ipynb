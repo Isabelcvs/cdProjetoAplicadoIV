{
  "nbformat": 4,
  "nbformat_minor": 0,
  "metadata": {
    "colab": {
      "provenance": [],
      "authorship_tag": "ABX9TyOex7h8a92p8cDcKugm0t+D"
    },
    "kernelspec": {
      "name": "python3",
      "display_name": "Python 3"
    },
    "language_info": {
      "name": "python"
    }
  },
  "cells": [
    {
      "cell_type": "code",
      "execution_count": null,
      "metadata": {
        "id": "pcTZnBypk9Ij"
      },
      "outputs": [],
      "source": []
    }
  ]
}